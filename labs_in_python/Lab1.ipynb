{
 "cells": [
  {
   "cell_type": "markdown",
   "metadata": {},
   "source": [
    "# By : Tyron Samaroo"
   ]
  },
  {
   "cell_type": "code",
   "execution_count": 4,
   "metadata": {},
   "outputs": [],
   "source": [
    "import numpy as np\n",
    "import pandas as pd\n",
    "from scipy import stats\n",
    "import math "
   ]
  },
  {
   "cell_type": "code",
   "execution_count": 5,
   "metadata": {},
   "outputs": [
    {
     "data": {
      "text/plain": [
       "'3.141592654'"
      ]
     },
     "execution_count": 5,
     "metadata": {},
     "output_type": "execute_result"
    }
   ],
   "source": [
    "format(math.pi, '.10g')"
   ]
  },
  {
   "cell_type": "markdown",
   "metadata": {},
   "source": [
    "# Sum up the first 100 terms of the series"
   ]
  },
  {
   "cell_type": "code",
   "execution_count": 6,
   "metadata": {},
   "outputs": [
    {
     "data": {
      "text/plain": [
       "['1.00e+00',\n",
       " '5.00e-01',\n",
       " '2.50e-01',\n",
       " '1.25e-01',\n",
       " '6.25e-02',\n",
       " '3.12e-02',\n",
       " '1.56e-02',\n",
       " '7.81e-03',\n",
       " '3.91e-03',\n",
       " '1.95e-03',\n",
       " '9.77e-04',\n",
       " '4.88e-04',\n",
       " '2.44e-04',\n",
       " '1.22e-04',\n",
       " '6.10e-05',\n",
       " '3.05e-05',\n",
       " '1.53e-05',\n",
       " '7.63e-06',\n",
       " '3.81e-06',\n",
       " '1.91e-06',\n",
       " '9.54e-07',\n",
       " '4.77e-07',\n",
       " '2.38e-07',\n",
       " '1.19e-07',\n",
       " '5.96e-08',\n",
       " '2.98e-08',\n",
       " '1.49e-08',\n",
       " '7.45e-09',\n",
       " '3.73e-09',\n",
       " '1.86e-09',\n",
       " '9.31e-10',\n",
       " '4.66e-10',\n",
       " '2.33e-10',\n",
       " '1.16e-10',\n",
       " '5.82e-11',\n",
       " '2.91e-11',\n",
       " '1.46e-11',\n",
       " '7.28e-12',\n",
       " '3.64e-12',\n",
       " '1.82e-12',\n",
       " '9.09e-13',\n",
       " '4.55e-13',\n",
       " '2.27e-13',\n",
       " '1.14e-13',\n",
       " '5.68e-14',\n",
       " '2.84e-14',\n",
       " '1.42e-14',\n",
       " '7.11e-15',\n",
       " '3.55e-15',\n",
       " '1.78e-15',\n",
       " '8.88e-16',\n",
       " '4.44e-16',\n",
       " '2.22e-16',\n",
       " '1.11e-16',\n",
       " '5.55e-17',\n",
       " '2.78e-17',\n",
       " '1.39e-17',\n",
       " '6.94e-18',\n",
       " '3.47e-18',\n",
       " '1.73e-18',\n",
       " '8.67e-19',\n",
       " '4.34e-19',\n",
       " '2.17e-19',\n",
       " '1.08e-19',\n",
       " '5.42e-20',\n",
       " '2.71e-20',\n",
       " '1.36e-20',\n",
       " '6.78e-21',\n",
       " '3.39e-21',\n",
       " '1.69e-21',\n",
       " '8.47e-22',\n",
       " '4.24e-22',\n",
       " '2.12e-22',\n",
       " '1.06e-22',\n",
       " '5.29e-23',\n",
       " '2.65e-23',\n",
       " '1.32e-23',\n",
       " '6.62e-24',\n",
       " '3.31e-24',\n",
       " '1.65e-24',\n",
       " '8.27e-25',\n",
       " '4.14e-25',\n",
       " '2.07e-25',\n",
       " '1.03e-25',\n",
       " '5.17e-26',\n",
       " '2.58e-26',\n",
       " '1.29e-26',\n",
       " '6.46e-27',\n",
       " '3.23e-27',\n",
       " '1.62e-27',\n",
       " '8.08e-28',\n",
       " '4.04e-28',\n",
       " '2.02e-28',\n",
       " '1.01e-28',\n",
       " '5.05e-29',\n",
       " '2.52e-29',\n",
       " '1.26e-29',\n",
       " '6.31e-30',\n",
       " '3.16e-30',\n",
       " '1.58e-30']"
      ]
     },
     "execution_count": 6,
     "metadata": {},
     "output_type": "execute_result"
    }
   ],
   "source": [
    "[\"{:.2e}\".format(pow(1/2, i)) for i in range(100)]"
   ]
  },
  {
   "cell_type": "code",
   "execution_count": 7,
   "metadata": {},
   "outputs": [
    {
     "data": {
      "text/plain": [
       "[1.0,\n",
       " 0.5,\n",
       " 0.25,\n",
       " 0.125,\n",
       " 0.0625,\n",
       " 0.03125,\n",
       " 0.015625,\n",
       " 0.0078125,\n",
       " 0.00390625,\n",
       " 0.001953125,\n",
       " 0.0009765625,\n",
       " 0.00048828125,\n",
       " 0.000244140625,\n",
       " 0.0001220703125,\n",
       " 6.103515625e-05,\n",
       " 3.0517578125e-05,\n",
       " 1.52587890625e-05,\n",
       " 7.62939453125e-06,\n",
       " 3.814697265625e-06,\n",
       " 1.9073486328125e-06,\n",
       " 9.5367431640625e-07,\n",
       " 4.76837158203125e-07,\n",
       " 2.384185791015625e-07,\n",
       " 1.1920928955078125e-07,\n",
       " 5.960464477539063e-08,\n",
       " 2.9802322387695312e-08,\n",
       " 1.4901161193847656e-08,\n",
       " 7.450580596923828e-09,\n",
       " 3.725290298461914e-09,\n",
       " 1.862645149230957e-09,\n",
       " 9.313225746154785e-10,\n",
       " 4.656612873077393e-10,\n",
       " 2.3283064365386963e-10,\n",
       " 1.1641532182693481e-10,\n",
       " 5.820766091346741e-11,\n",
       " 2.9103830456733704e-11,\n",
       " 1.4551915228366852e-11,\n",
       " 7.275957614183426e-12,\n",
       " 3.637978807091713e-12,\n",
       " 1.8189894035458565e-12,\n",
       " 9.094947017729282e-13,\n",
       " 4.547473508864641e-13,\n",
       " 2.2737367544323206e-13,\n",
       " 1.1368683772161603e-13,\n",
       " 5.684341886080802e-14,\n",
       " 2.842170943040401e-14,\n",
       " 1.4210854715202004e-14,\n",
       " 7.105427357601002e-15,\n",
       " 3.552713678800501e-15,\n",
       " 1.7763568394002505e-15,\n",
       " 8.881784197001252e-16,\n",
       " 4.440892098500626e-16,\n",
       " 2.220446049250313e-16,\n",
       " 1.1102230246251565e-16,\n",
       " 5.551115123125783e-17,\n",
       " 2.7755575615628914e-17,\n",
       " 1.3877787807814457e-17,\n",
       " 6.938893903907228e-18,\n",
       " 3.469446951953614e-18,\n",
       " 1.734723475976807e-18,\n",
       " 8.673617379884035e-19,\n",
       " 4.336808689942018e-19,\n",
       " 2.168404344971009e-19,\n",
       " 1.0842021724855044e-19,\n",
       " 5.421010862427522e-20,\n",
       " 2.710505431213761e-20,\n",
       " 1.3552527156068805e-20,\n",
       " 6.776263578034403e-21,\n",
       " 3.3881317890172014e-21,\n",
       " 1.6940658945086007e-21,\n",
       " 8.470329472543003e-22,\n",
       " 4.235164736271502e-22,\n",
       " 2.117582368135751e-22,\n",
       " 1.0587911840678754e-22,\n",
       " 5.293955920339377e-23,\n",
       " 2.6469779601696886e-23,\n",
       " 1.3234889800848443e-23,\n",
       " 6.617444900424222e-24,\n",
       " 3.308722450212111e-24,\n",
       " 1.6543612251060553e-24,\n",
       " 8.271806125530277e-25,\n",
       " 4.1359030627651384e-25,\n",
       " 2.0679515313825692e-25,\n",
       " 1.0339757656912846e-25,\n",
       " 5.169878828456423e-26,\n",
       " 2.5849394142282115e-26,\n",
       " 1.2924697071141057e-26,\n",
       " 6.462348535570529e-27,\n",
       " 3.2311742677852644e-27,\n",
       " 1.6155871338926322e-27,\n",
       " 8.077935669463161e-28,\n",
       " 4.0389678347315804e-28,\n",
       " 2.0194839173657902e-28,\n",
       " 1.0097419586828951e-28,\n",
       " 5.048709793414476e-29,\n",
       " 2.524354896707238e-29,\n",
       " 1.262177448353619e-29,\n",
       " 6.310887241768095e-30,\n",
       " 3.1554436208840472e-30,\n",
       " 1.5777218104420236e-30]"
      ]
     },
     "execution_count": 7,
     "metadata": {},
     "output_type": "execute_result"
    }
   ],
   "source": [
    "[pow(1/2, i) for i in range(100)]\n"
   ]
  },
  {
   "cell_type": "code",
   "execution_count": 8,
   "metadata": {},
   "outputs": [
    {
     "data": {
      "text/plain": [
       "2.0"
      ]
     },
     "execution_count": 8,
     "metadata": {},
     "output_type": "execute_result"
    }
   ],
   "source": [
    "sum([pow(1/2, i) for i in range(100)])"
   ]
  },
  {
   "cell_type": "markdown",
   "metadata": {},
   "source": [
    "### Calculate the average of 500 realizations of Bernoullis with p = 0.9 "
   ]
  },
  {
   "cell_type": "code",
   "execution_count": 9,
   "metadata": {},
   "outputs": [
    {
     "data": {
      "text/plain": [
       "array([0, 1, 1, 0, 1, 1, 1, 1, 1, 1, 1, 0, 1, 1, 1, 1, 1, 1, 0, 1, 1, 1,\n",
       "       1, 1, 1, 1, 1, 0, 1, 1, 1, 1, 1, 1, 1, 0, 1, 1, 1, 1, 1, 1, 1, 1,\n",
       "       1, 1, 1, 1, 1, 1, 1, 1, 1, 1, 1, 1, 1, 1, 1, 1, 1, 1, 1, 1, 1, 1,\n",
       "       1, 1, 1, 1, 1, 0, 1, 1, 1, 1, 1, 1, 1, 1, 1, 1, 1, 1, 0, 1, 1, 1,\n",
       "       1, 1, 1, 1, 1, 0, 1, 1, 1, 1, 1, 1, 1, 0, 1, 1, 0, 1, 1, 1, 1, 0,\n",
       "       1, 1, 1, 1, 1, 0, 1, 1, 1, 1, 1, 0, 1, 1, 1, 1, 0, 1, 1, 1, 1, 1,\n",
       "       1, 1, 1, 1, 1, 1, 1, 1, 1, 1, 1, 1, 1, 1, 1, 1, 1, 1, 1, 0, 1, 1,\n",
       "       1, 1, 1, 1, 1, 1, 1, 1, 1, 1, 1, 1, 1, 1, 1, 0, 1, 1, 1, 1, 1, 1,\n",
       "       1, 1, 1, 1, 1, 1, 1, 1, 0, 1, 1, 1, 1, 1, 1, 1, 1, 1, 1, 1, 1, 1,\n",
       "       0, 1, 1, 0, 1, 1, 1, 1, 1, 1, 1, 1, 1, 1, 1, 0, 1, 0, 0, 0, 1, 1,\n",
       "       1, 1, 1, 1, 1, 1, 1, 1, 1, 1, 1, 1, 1, 1, 1, 0, 1, 1, 1, 1, 1, 1,\n",
       "       1, 1, 1, 1, 1, 1, 1, 1, 1, 1, 1, 1, 1, 1, 1, 1, 1, 1, 1, 1, 1, 1,\n",
       "       0, 1, 1, 1, 1, 1, 1, 1, 1, 1, 1, 1, 1, 1, 0, 1, 1, 1, 1, 0, 1, 1,\n",
       "       1, 1, 1, 1, 1, 1, 1, 1, 1, 1, 1, 1, 1, 1, 0, 1, 1, 1, 1, 1, 1, 1,\n",
       "       1, 1, 1, 1, 1, 1, 1, 1, 1, 1, 1, 0, 1, 1, 1, 1, 1, 1, 0, 1, 1, 1,\n",
       "       1, 1, 0, 1, 1, 1, 1, 1, 1, 1, 1, 1, 1, 1, 0, 1, 1, 1, 1, 1, 1, 1,\n",
       "       1, 1, 1, 1, 1, 1, 1, 1, 1, 1, 1, 1, 1, 1, 1, 0, 1, 1, 1, 0, 1, 1,\n",
       "       1, 1, 1, 1, 1, 0, 1, 1, 0, 1, 1, 0, 1, 1, 1, 1, 0, 1, 1, 1, 1, 1,\n",
       "       1, 1, 1, 1, 1, 1, 1, 1, 0, 1, 1, 1, 1, 1, 1, 1, 1, 1, 1, 1, 1, 1,\n",
       "       1, 1, 1, 1, 1, 1, 1, 1, 1, 0, 0, 1, 1, 1, 1, 0, 1, 1, 1, 1, 1, 1,\n",
       "       0, 1, 1, 1, 1, 1, 1, 0, 1, 1, 1, 1, 1, 0, 0, 1, 1, 1, 1, 1, 0, 1,\n",
       "       1, 1, 1, 1, 1, 1, 0, 1, 1, 0, 1, 1, 1, 1, 1, 1, 1, 1, 1, 0, 1, 1,\n",
       "       1, 1, 1, 1, 1, 1, 1, 1, 1, 1, 1, 1, 1, 1, 1, 1])"
      ]
     },
     "execution_count": 9,
     "metadata": {},
     "output_type": "execute_result"
    }
   ],
   "source": [
    "stats.bernoulli.rvs(p = .9, size = 500)"
   ]
  },
  {
   "cell_type": "markdown",
   "metadata": {},
   "source": [
    "### In class we considered a variable `x_3` which measured \"criminality\". We imagined L = 4 levels \"none\", \"infraction\", \"misdimeanor\" and \"felony\". Create a variable `x_3` here with 100 random elements (equally probable)"
   ]
  },
  {
   "cell_type": "code",
   "execution_count": 10,
   "metadata": {},
   "outputs": [],
   "source": [
    "criminality = [\"none\",\"infraction\",\"misdimenor\", \"felony\"]"
   ]
  },
  {
   "cell_type": "code",
   "execution_count": 11,
   "metadata": {},
   "outputs": [
    {
     "data": {
      "text/plain": [
       "[none, infraction, misdimenor, felony]\n",
       "Categories (4, object): [none < infraction < misdimenor < felony]"
      ]
     },
     "execution_count": 11,
     "metadata": {},
     "output_type": "execute_result"
    }
   ],
   "source": [
    "crim_cat = pd.Categorical(criminality, categories = criminality, ordered = True)\n",
    "crim_cat"
   ]
  },
  {
   "cell_type": "code",
   "execution_count": 12,
   "metadata": {},
   "outputs": [
    {
     "data": {
      "text/plain": [
       "0          none\n",
       "1    infraction\n",
       "2    misdimenor\n",
       "3        felony\n",
       "dtype: category\n",
       "Categories (4, object): [none < infraction < misdimenor < felony]"
      ]
     },
     "execution_count": 12,
     "metadata": {},
     "output_type": "execute_result"
    }
   ],
   "source": [
    "criminality_series = pd.Series(crim_cat)\n",
    "criminality_series"
   ]
  },
  {
   "cell_type": "code",
   "execution_count": 13,
   "metadata": {},
   "outputs": [
    {
     "data": {
      "text/plain": [
       "array(['none', 'felony', 'misdimenor', 'misdimenor', 'felony', 'felony',\n",
       "       'infraction', 'felony', 'none', 'none', 'misdimenor', 'none',\n",
       "       'misdimenor', 'misdimenor', 'felony', 'misdimenor', 'felony',\n",
       "       'misdimenor', 'misdimenor', 'none', 'none', 'infraction', 'none',\n",
       "       'infraction', 'felony', 'infraction', 'felony', 'infraction',\n",
       "       'infraction', 'misdimenor', 'infraction', 'infraction',\n",
       "       'misdimenor', 'infraction', 'misdimenor', 'infraction', 'none',\n",
       "       'none', 'none', 'none', 'infraction', 'infraction', 'infraction',\n",
       "       'infraction', 'infraction', 'none', 'none', 'infraction',\n",
       "       'misdimenor', 'misdimenor', 'felony', 'felony', 'felony',\n",
       "       'misdimenor', 'infraction', 'none', 'infraction', 'none',\n",
       "       'misdimenor', 'felony', 'none', 'felony', 'felony', 'misdimenor',\n",
       "       'none', 'misdimenor', 'misdimenor', 'felony', 'misdimenor', 'none',\n",
       "       'felony', 'infraction', 'felony', 'misdimenor', 'none', 'felony',\n",
       "       'infraction', 'felony', 'infraction', 'felony', 'misdimenor',\n",
       "       'none', 'felony', 'infraction', 'felony', 'none', 'misdimenor',\n",
       "       'infraction', 'felony', 'infraction', 'infraction', 'misdimenor',\n",
       "       'infraction', 'infraction', 'infraction', 'misdimenor',\n",
       "       'misdimenor', 'felony', 'infraction', 'misdimenor'], dtype=object)"
      ]
     },
     "execution_count": 13,
     "metadata": {},
     "output_type": "execute_result"
    }
   ],
   "source": [
    "x_3 = np.random.choice(criminality_series,\n",
    "                 size = 100, \n",
    "                 replace = True, \n",
    "                 p = [.25, .25, .25, .25])\n",
    "x_3"
   ]
  },
  {
   "cell_type": "code",
   "execution_count": 14,
   "metadata": {},
   "outputs": [
    {
     "data": {
      "text/html": [
       "<div>\n",
       "<style scoped>\n",
       "    .dataframe tbody tr th:only-of-type {\n",
       "        vertical-align: middle;\n",
       "    }\n",
       "\n",
       "    .dataframe tbody tr th {\n",
       "        vertical-align: top;\n",
       "    }\n",
       "\n",
       "    .dataframe thead th {\n",
       "        text-align: right;\n",
       "    }\n",
       "</style>\n",
       "<table border=\"1\" class=\"dataframe\">\n",
       "  <thead>\n",
       "    <tr style=\"text-align: right;\">\n",
       "      <th></th>\n",
       "      <th>0</th>\n",
       "    </tr>\n",
       "  </thead>\n",
       "  <tbody>\n",
       "    <tr>\n",
       "      <th>0</th>\n",
       "      <td>none</td>\n",
       "    </tr>\n",
       "    <tr>\n",
       "      <th>1</th>\n",
       "      <td>felony</td>\n",
       "    </tr>\n",
       "    <tr>\n",
       "      <th>2</th>\n",
       "      <td>misdimenor</td>\n",
       "    </tr>\n",
       "    <tr>\n",
       "      <th>3</th>\n",
       "      <td>misdimenor</td>\n",
       "    </tr>\n",
       "    <tr>\n",
       "      <th>4</th>\n",
       "      <td>felony</td>\n",
       "    </tr>\n",
       "    <tr>\n",
       "      <th>...</th>\n",
       "      <td>...</td>\n",
       "    </tr>\n",
       "    <tr>\n",
       "      <th>95</th>\n",
       "      <td>misdimenor</td>\n",
       "    </tr>\n",
       "    <tr>\n",
       "      <th>96</th>\n",
       "      <td>misdimenor</td>\n",
       "    </tr>\n",
       "    <tr>\n",
       "      <th>97</th>\n",
       "      <td>felony</td>\n",
       "    </tr>\n",
       "    <tr>\n",
       "      <th>98</th>\n",
       "      <td>infraction</td>\n",
       "    </tr>\n",
       "    <tr>\n",
       "      <th>99</th>\n",
       "      <td>misdimenor</td>\n",
       "    </tr>\n",
       "  </tbody>\n",
       "</table>\n",
       "<p>100 rows × 1 columns</p>\n",
       "</div>"
      ],
      "text/plain": [
       "             0\n",
       "0         none\n",
       "1       felony\n",
       "2   misdimenor\n",
       "3   misdimenor\n",
       "4       felony\n",
       "..         ...\n",
       "95  misdimenor\n",
       "96  misdimenor\n",
       "97      felony\n",
       "98  infraction\n",
       "99  misdimenor\n",
       "\n",
       "[100 rows x 1 columns]"
      ]
     },
     "execution_count": 14,
     "metadata": {},
     "output_type": "execute_result"
    }
   ],
   "source": [
    "criminal_data = pd.DataFrame(x_3)\n",
    "criminal_data"
   ]
  },
  {
   "cell_type": "markdown",
   "metadata": {},
   "source": [
    "#### Use x_3 to create x_3_bin, a binary feature where 0 is no crime and 1 is any crime.\n",
    "\n"
   ]
  },
  {
   "cell_type": "code",
   "execution_count": 15,
   "metadata": {},
   "outputs": [
    {
     "data": {
      "text/plain": [
       "array(['none', 'felony', 'misdimenor', 'misdimenor', 'felony', 'felony',\n",
       "       'infraction', 'felony', 'none', 'none', 'misdimenor', 'none',\n",
       "       'misdimenor', 'misdimenor', 'felony', 'misdimenor', 'felony',\n",
       "       'misdimenor', 'misdimenor', 'none', 'none', 'infraction', 'none',\n",
       "       'infraction', 'felony', 'infraction', 'felony', 'infraction',\n",
       "       'infraction', 'misdimenor', 'infraction', 'infraction',\n",
       "       'misdimenor', 'infraction', 'misdimenor', 'infraction', 'none',\n",
       "       'none', 'none', 'none', 'infraction', 'infraction', 'infraction',\n",
       "       'infraction', 'infraction', 'none', 'none', 'infraction',\n",
       "       'misdimenor', 'misdimenor', 'felony', 'felony', 'felony',\n",
       "       'misdimenor', 'infraction', 'none', 'infraction', 'none',\n",
       "       'misdimenor', 'felony', 'none', 'felony', 'felony', 'misdimenor',\n",
       "       'none', 'misdimenor', 'misdimenor', 'felony', 'misdimenor', 'none',\n",
       "       'felony', 'infraction', 'felony', 'misdimenor', 'none', 'felony',\n",
       "       'infraction', 'felony', 'infraction', 'felony', 'misdimenor',\n",
       "       'none', 'felony', 'infraction', 'felony', 'none', 'misdimenor',\n",
       "       'infraction', 'felony', 'infraction', 'infraction', 'misdimenor',\n",
       "       'infraction', 'infraction', 'infraction', 'misdimenor',\n",
       "       'misdimenor', 'felony', 'infraction', 'misdimenor'], dtype=object)"
      ]
     },
     "execution_count": 15,
     "metadata": {},
     "output_type": "execute_result"
    }
   ],
   "source": [
    "x_3_bin = np.copy(x_3)\n",
    "x_3_bin"
   ]
  },
  {
   "cell_type": "code",
   "execution_count": 16,
   "metadata": {},
   "outputs": [],
   "source": [
    "#Another way\n",
    "# for index,criminality in enumerate(x_3_bin):\n",
    "#     if criminality == \"none\":\n",
    "#         x_3_bin[index] = 0\n",
    "#     else:\n",
    "#         x_3_bin[index] = 1\n"
   ]
  },
  {
   "cell_type": "code",
   "execution_count": 17,
   "metadata": {},
   "outputs": [],
   "source": [
    "x_3_bin = [0 if crime == \"none\" else 1 for crime in x_3_bin]"
   ]
  },
  {
   "cell_type": "code",
   "execution_count": 18,
   "metadata": {},
   "outputs": [
    {
     "data": {
      "text/plain": [
       "array([0, 1, 1, 1, 1, 1, 1, 1, 0, 0, 1, 0, 1, 1, 1, 1, 1, 1, 1, 0, 0, 1,\n",
       "       0, 1, 1, 1, 1, 1, 1, 1, 1, 1, 1, 1, 1, 1, 0, 0, 0, 0, 1, 1, 1, 1,\n",
       "       1, 0, 0, 1, 1, 1, 1, 1, 1, 1, 1, 0, 1, 0, 1, 1, 0, 1, 1, 1, 0, 1,\n",
       "       1, 1, 1, 0, 1, 1, 1, 1, 0, 1, 1, 1, 1, 1, 1, 0, 1, 1, 1, 0, 1, 1,\n",
       "       1, 1, 1, 1, 1, 1, 1, 1, 1, 1, 1, 1])"
      ]
     },
     "execution_count": 18,
     "metadata": {},
     "output_type": "execute_result"
    }
   ],
   "source": [
    "np.array(x_3_bin)"
   ]
  },
  {
   "cell_type": "code",
   "execution_count": null,
   "metadata": {},
   "outputs": [],
   "source": []
  },
  {
   "cell_type": "code",
   "execution_count": null,
   "metadata": {},
   "outputs": [],
   "source": []
  },
  {
   "cell_type": "code",
   "execution_count": null,
   "metadata": {},
   "outputs": [],
   "source": []
  },
  {
   "cell_type": "code",
   "execution_count": null,
   "metadata": {},
   "outputs": [],
   "source": []
  },
  {
   "cell_type": "code",
   "execution_count": null,
   "metadata": {},
   "outputs": [],
   "source": []
  }
 ],
 "metadata": {
  "kernelspec": {
   "display_name": "Python 3",
   "language": "python",
   "name": "python3"
  },
  "language_info": {
   "codemirror_mode": {
    "name": "ipython",
    "version": 3
   },
   "file_extension": ".py",
   "mimetype": "text/x-python",
   "name": "python",
   "nbconvert_exporter": "python",
   "pygments_lexer": "ipython3",
   "version": "3.7.6"
  }
 },
 "nbformat": 4,
 "nbformat_minor": 4
}
